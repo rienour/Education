{
 "cells": [
  {
   "cell_type": "markdown",
   "metadata": {},
   "source": [
    "# Treasure Hunt Game Notebook\n",
    "\n",
    "## Read and Review Your Starter Code\n",
    "The theme of this project is a popular treasure hunt game in which the player needs to find the treasure before the pirate does. While you will not be developing the entire game, you will write the part of the game that represents the intelligent agent, which is a pirate in this case. The pirate will try to find the optimal path to the treasure using deep Q-learning. \n",
    "\n",
    "You have been provided with two Python classes and this notebook to help you with this assignment. The first class, TreasureMaze.py, represents the environment, which includes a maze object defined as a matrix. The second class, GameExperience.py, stores the episodes – that is, all the states that come in between the initial state and the terminal state. This is later used by the agent for learning by experience, called \"exploration\". This notebook shows how to play a game. Your task is to complete the deep Q-learning implementation for which a skeleton implementation has been provided. The code blocks you will need to complete has #TODO as a header.\n",
    "\n",
    "First, read and review the next few code and instruction blocks to understand the code that you have been given."
   ]
  },
  {
   "cell_type": "code",
   "execution_count": 1,
   "metadata": {},
   "outputs": [
    {
     "name": "stderr",
     "output_type": "stream",
     "text": [
      "Using TensorFlow backend.\n"
     ]
    }
   ],
   "source": [
    "from __future__ import print_function\n",
    "import os, sys, time, datetime, json, random\n",
    "import numpy as np\n",
    "from keras.models import Sequential\n",
    "from keras.layers.core import Dense, Activation\n",
    "from keras.optimizers import SGD , Adam, RMSprop\n",
    "from keras.layers.advanced_activations import PReLU\n",
    "import matplotlib.pyplot as plt\n",
    "from TreasureMaze import TreasureMaze\n",
    "from GameExperience import GameExperience\n",
    "%matplotlib inline"
   ]
  },
  {
   "cell_type": "markdown",
   "metadata": {},
   "source": [
    "The following code block contains an 8x8 matrix that will be used as a maze object:"
   ]
  },
  {
   "cell_type": "code",
   "execution_count": 2,
   "metadata": {},
   "outputs": [],
   "source": [
    "maze = np.array([\n",
    "    [ 1.,  0.,  1.,  1.,  1.,  1.,  1.,  1.],\n",
    "    [ 1.,  0.,  1.,  1.,  1.,  0.,  1.,  1.],\n",
    "    [ 1.,  1.,  1.,  1.,  0.,  1.,  0.,  1.],\n",
    "    [ 1.,  1.,  1.,  0.,  1.,  1.,  1.,  1.],\n",
    "    [ 1.,  1.,  0.,  1.,  1.,  1.,  1.,  1.],\n",
    "    [ 1.,  1.,  1.,  0.,  1.,  0.,  0.,  0.],\n",
    "    [ 1.,  1.,  1.,  0.,  1.,  1.,  1.,  1.],\n",
    "    [ 1.,  1.,  1.,  1.,  0.,  1.,  1.,  1.]\n",
    "])"
   ]
  },
  {
   "cell_type": "markdown",
   "metadata": {},
   "source": [
    "This helper function allows a visual representation of the maze object:"
   ]
  },
  {
   "cell_type": "code",
   "execution_count": 3,
   "metadata": {},
   "outputs": [],
   "source": [
    "def show(qmaze):\n",
    "    plt.grid('on')\n",
    "    nrows, ncols = qmaze.maze.shape\n",
    "    ax = plt.gca()\n",
    "    ax.set_xticks(np.arange(0.5, nrows, 1))\n",
    "    ax.set_yticks(np.arange(0.5, ncols, 1))\n",
    "    ax.set_xticklabels([])\n",
    "    ax.set_yticklabels([])\n",
    "    canvas = np.copy(qmaze.maze)\n",
    "    for row,col in qmaze.visited:\n",
    "        canvas[row,col] = 0.6\n",
    "    pirate_row, pirate_col, _ = qmaze.state\n",
    "    canvas[pirate_row, pirate_col] = 0.3   # pirate cell\n",
    "    canvas[nrows-1, ncols-1] = 0.9 # treasure cell\n",
    "    img = plt.imshow(canvas, interpolation='none', cmap='gray')\n",
    "    return img"
   ]
  },
  {
   "cell_type": "markdown",
   "metadata": {},
   "source": [
    "The pirate agent can move in four directions: left, right, up, and down. \n",
    "\n",
    "While the agent primarily learns by experience through exploitation, often, the agent can choose to explore the environment to find previously undiscovered paths. This is called \"exploration\" and is defined by epsilon. This value is typically a lower value such as 0.1, which means for every ten attempts, the agent will attempt to learn by experience nine times and will randomly explore a new path one time. You are encouraged to try various values for the exploration factor and see how the algorithm performs."
   ]
  },
  {
   "cell_type": "code",
   "execution_count": 4,
   "metadata": {},
   "outputs": [],
   "source": [
    "LEFT = 0\n",
    "UP = 1\n",
    "RIGHT = 2\n",
    "DOWN = 3\n",
    "\n",
    "\n",
    "# Exploration factor\n",
    "epsilon = 0.1\n",
    "\n",
    "# Actions dictionary\n",
    "actions_dict = {\n",
    "    LEFT: 'left',\n",
    "    UP: 'up',\n",
    "    RIGHT: 'right',\n",
    "    DOWN: 'down',\n",
    "}\n",
    "\n",
    "num_actions = len(actions_dict)\n"
   ]
  },
  {
   "cell_type": "markdown",
   "metadata": {},
   "source": [
    "The sample code block and output below show creating a maze object and performing one action (DOWN), which returns the reward. The resulting updated environment is visualized."
   ]
  },
  {
   "cell_type": "code",
   "execution_count": 5,
   "metadata": {},
   "outputs": [
    {
     "name": "stdout",
     "output_type": "stream",
     "text": [
      "reward= -0.04\n"
     ]
    },
    {
     "data": {
      "text/plain": [
       "<matplotlib.image.AxesImage at 0x2415b77ef08>"
      ]
     },
     "execution_count": 5,
     "metadata": {},
     "output_type": "execute_result"
    },
    {
     "data": {
      "image/png": "[encoded data removed]",
      "text/plain": [
       "<Figure size 432x288 with 1 Axes>"
      ]
     },
     "metadata": {
      "needs_background": "light"
     },
     "output_type": "display_data"
    }
   ],
   "source": [
    "qmaze = TreasureMaze(maze)\n",
    "canvas, reward, game_over = qmaze.act(DOWN)\n",
    "print(\"reward=\", reward)\n",
    "show(qmaze)"
   ]
  },
  {
   "cell_type": "markdown",
   "metadata": {},
   "source": [
    "This function simulates a full game based on the provided trained model. The other parameters include the TreasureMaze object and the starting position of the pirate."
   ]
  },
  {
   "cell_type": "code",
   "execution_count": 6,
   "metadata": {},
   "outputs": [],
   "source": [
    "def play_game(model, qmaze, pirate_cell):\n",
    "    qmaze.reset(pirate_cell)\n",
    "    envstate = qmaze.observe()\n",
    "    while True:\n",
    "        prev_envstate = envstate\n",
    "        # get next action\n",
    "        q = model.predict(prev_envstate)\n",
    "        action = np.argmax(q[0])\n",
    "\n",
    "        # apply action, get rewards and new state\n",
    "        envstate, reward, game_status = qmaze.act(action)\n",
    "        if game_status == 'win':\n",
    "            return True\n",
    "        elif game_status == 'lose':\n",
    "            return False"
   ]
  },
  {
   "cell_type": "markdown",
   "metadata": {},
   "source": [
    "This function helps you to determine whether the pirate can win any game at all. If your maze is not well designed, the pirate may not win any game at all. In this case, your training would not yield any result. The provided maze in this notebook ensures that there is a path to win and you can run this method to check."
   ]
  },
  {
   "cell_type": "code",
   "execution_count": 7,
   "metadata": {},
   "outputs": [],
   "source": [
    "def completion_check(model, qmaze):\n",
    "    for cell in qmaze.free_cells:\n",
    "        if not qmaze.valid_actions(cell):\n",
    "            return False\n",
    "        if not play_game(model, qmaze, cell):\n",
    "            return False\n",
    "    return True"
   ]
  },
  {
   "cell_type": "markdown",
   "metadata": {},
   "source": [
    "The code you have been given in this block will build the neural network model. Review the code and note the number of layers, as well as the activation, optimizer, and loss functions that are used to train the model."
   ]
  },
  {
   "cell_type": "code",
   "execution_count": 8,
   "metadata": {},
   "outputs": [],
   "source": [
    "def build_model(maze):\n",
    "    model = Sequential()\n",
    "    model.add(Dense(maze.size, input_shape=(maze.size,)))\n",
    "    model.add(PReLU())\n",
    "    model.add(Dense(maze.size))\n",
    "    model.add(PReLU())\n",
    "    model.add(Dense(num_actions))\n",
    "    model.compile(optimizer='adam', loss='mse')\n",
    "    return model"
   ]
  },
  {
   "cell_type": "markdown",
   "metadata": {},
   "source": [
    "# # Q-Training Algorithm Code Block\n",
    "\n",
    "This is your deep Q-learning implementation. The goal of your deep Q-learning implementation is to find the best possible navigation sequence that results in reaching the treasure cell while maximizing the reward. In your implementation, you need to determine the optimal number of epochs to achieve a 100% win rate.\n",
    "\n",
    "You will need to complete the section starting with #pseudocode. The pseudocode has been included for you."
   ]
  },
  {
   "cell_type": "code",
   "execution_count": 9,
   "metadata": {},
   "outputs": [],
   "source": [
    "def qtrain(model, maze, **opt):\n",
    "\n",
    "    # exploration factor\n",
    "    global epsilon \n",
    "\n",
    "    # number of epochs\n",
    "    n_epoch = opt.get('n_epoch', 15000)\n",
    "\n",
    "    # maximum memory to store episodes\n",
    "    max_memory = opt.get('max_memory', 1000)\n",
    "\n",
    "    # maximum data size for training\n",
    "    data_size = opt.get('data_size', 50)\n",
    "\n",
    "    # start time\n",
    "    start_time = datetime.datetime.now()\n",
    "\n",
    "    # Construct environment/game from numpy array: maze (see above)\n",
    "    qmaze = TreasureMaze(maze)\n",
    "\n",
    "    # Initialize experience replay object\n",
    "    experience = GameExperience(model, max_memory=max_memory)\n",
    "    \n",
    "    win_history = []   # history of win/lose game\n",
    "    hsize = qmaze.maze.size//2   # history window size\n",
    "    win_rate = 0.0\n",
    "    \n",
    "    # Iterate through each epoch\n",
    "    for epoch in range(n_epoch):\n",
    "        # Track cumulative model loss for epoch\n",
    "        loss = 0.0\n",
    "        \n",
    "        # Counter for each agent move on the board\n",
    "        n_episodes = 0\n",
    "\n",
    "        # Agent Game Position setup\n",
    "        agent_cell = random.choice(qmaze.free_cells)\n",
    "        qmaze.reset(agent_cell)\n",
    "\n",
    "        # Get the current state of the game from the current maze\n",
    "        envstate = qmaze.observe()\n",
    "    \n",
    "        # Continue until the epoch ends\n",
    "        while True:\n",
    "            # Store previous state\n",
    "            previous_game_state = envstate\n",
    "\n",
    "            # Choose whether the agent will explore or exploit\n",
    "            if epsilon > np.random.rand(): # Agent should explore\n",
    "                action = np.random.choice(num_actions)\n",
    "            else: # Agent should exploit\n",
    "                # Get predicted Q-values\n",
    "                q_values = model.predict(previous_game_state.reshape(1, -1), verbose = 0)[0]\n",
    "                # Choose the best predicted Q-value\n",
    "                action = np.argmax(q_values)\n",
    "            \n",
    "            # Get results of chosen action\n",
    "            envstate, reward, game_status = qmaze.act(action)\n",
    "\n",
    "            # Prepare episode for agent memory\n",
    "            episode = [previous_game_state, action, reward, envstate, game_status]\n",
    "            \n",
    "            # Call the function to remember the current episode for experience\n",
    "            experience.remember(episode)\n",
    "            \n",
    "            # Action results in an increment of the episode\n",
    "            n_episodes += 1\n",
    "\n",
    "            # Use the experience to get the training data\n",
    "            inputs, targets = experience.get_data(data_size=data_size)\n",
    "            # Training the model - store result for further analysis\n",
    "            fit_result = model.fit(inputs, targets, epochs=1, batch_size=16, verbose=0)\n",
    "            # Track the cumalative loss from fit results\n",
    "            loss += fit_result.history['loss'][0]\n",
    "\n",
    "            # The epoch has reached the end state\n",
    "            if game_status in ['win', 'lose']:\n",
    "                # Update the history with a summable result\n",
    "                win_history.append(1 if game_status == 'win' else 0)\n",
    "                # Epoch has concluded, terminate the epoch\n",
    "                break\n",
    "\n",
    "        # Check if the agent is above the history count for experience memory\n",
    "        if len(win_history) > hsize:\n",
    "            # Shift the window dropping oldest experience\n",
    "            win_history = win_history[-hsize:]\n",
    "\n",
    "        win_rate = sum(win_history) / len(win_history)\n",
    "\n",
    "\n",
    "    #Print the epoch, loss, episodes, win count, and win rate for each epoch\n",
    "        dt = datetime.datetime.now() - start_time\n",
    "        t = format_time(dt.total_seconds())\n",
    "        template = \"Epoch: {:03d}/{:d} | Loss: {:.4f} | Episodes: {:d} | Win count: {:d} | Win rate: {:.3f} | time: {}\"\n",
    "        print(template.format(epoch, n_epoch-1, loss, n_episodes, sum(win_history), win_rate, t))\n",
    "        # We simply check if training has exhausted all free cells and if in all\n",
    "        # cases the agent won.\n",
    "        if win_rate > 0.9 : epsilon = 0.05\n",
    "        if sum(win_history[-hsize:]) == hsize and completion_check(model, qmaze):\n",
    "            print(\"Reached 100%% win rate at epoch: %d\" % (epoch,))\n",
    "            break\n",
    "    \n",
    "    \n",
    "    # Determine the total time for training\n",
    "    dt = datetime.datetime.now() - start_time\n",
    "    seconds = dt.total_seconds()\n",
    "    t = format_time(seconds)\n",
    "\n",
    "    print(\"n_epoch: %d, max_mem: %d, data: %d, time: %s\" % (epoch, max_memory, data_size, t))\n",
    "    return seconds\n",
    "\n",
    "# This is a small utility for printing readable time strings:\n",
    "def format_time(seconds):\n",
    "    if seconds < 400:\n",
    "        s = float(seconds)\n",
    "        return \"%.1f seconds\" % (s,)\n",
    "    elif seconds < 4000:\n",
    "        m = seconds / 60.0\n",
    "        return \"%.2f minutes\" % (m,)\n",
    "    else:\n",
    "        h = seconds / 3600.0\n",
    "        return \"%.2f hours\" % (h,)"
   ]
  },
  {
   "cell_type": "markdown",
   "metadata": {},
   "source": [
    "## Test Your Model\n",
    "\n",
    "Now we will start testing the deep Q-learning implementation. To begin, select **Cell**, then **Run All** from the menu bar. This will run your notebook. As it runs, you should see output begin to appear beneath the next few cells. The code below creates an instance of TreasureMaze."
   ]
  },
  {
   "cell_type": "code",
   "execution_count": 10,
   "metadata": {},
   "outputs": [
    {
     "data": {
      "text/plain": [
       "<matplotlib.image.AxesImage at 0x2415b843908>"
      ]
     },
     "execution_count": 10,
     "metadata": {},
     "output_type": "execute_result"
    },
    {
     "data": {
      "image/png": "[encoded data removed]",
      "text/plain": [
       "<Figure size 432x288 with 1 Axes>"
      ]
     },
     "metadata": {
      "needs_background": "light"
     },
     "output_type": "display_data"
    }
   ],
   "source": [
    "qmaze = TreasureMaze(maze)\n",
    "show(qmaze)"
   ]
  },
  {
   "cell_type": "markdown",
   "metadata": {},
   "source": [
    "In the next code block, you will build your model and train it using deep Q-learning. Note: This step takes several minutes to fully run."
   ]
  },
  {
   "cell_type": "code",
   "execution_count": 11,
   "metadata": {},
   "outputs": [
    {
     "name": "stdout",
     "output_type": "stream",
     "text": [
      "Epoch: 000/14999 | Loss: 0.2280 | Episodes: 129 | Win count: 0 | Win rate: 0.000 | time: 5.6 seconds\n",
      "Epoch: 001/14999 | Loss: 0.0100 | Episodes: 52 | Win count: 1 | Win rate: 0.500 | time: 7.7 seconds\n",
      "Epoch: 002/14999 | Loss: 0.2650 | Episodes: 139 | Win count: 1 | Win rate: 0.333 | time: 12.9 seconds\n",
      "Epoch: 003/14999 | Loss: 0.1808 | Episodes: 138 | Win count: 1 | Win rate: 0.250 | time: 18.1 seconds\n",
      "Epoch: 004/14999 | Loss: 0.1621 | Episodes: 144 | Win count: 1 | Win rate: 0.200 | time: 23.6 seconds\n",
      "Epoch: 005/14999 | Loss: 0.1711 | Episodes: 138 | Win count: 1 | Win rate: 0.167 | time: 28.8 seconds\n",
      "Epoch: 006/14999 | Loss: 0.1023 | Episodes: 136 | Win count: 1 | Win rate: 0.143 | time: 33.9 seconds\n",
      "Epoch: 007/14999 | Loss: 0.0694 | Episodes: 131 | Win count: 1 | Win rate: 0.125 | time: 39.0 seconds\n",
      "Epoch: 008/14999 | Loss: 0.0563 | Episodes: 134 | Win count: 1 | Win rate: 0.111 | time: 44.1 seconds\n",
      "Epoch: 009/14999 | Loss: 0.0565 | Episodes: 133 | Win count: 1 | Win rate: 0.100 | time: 49.0 seconds\n",
      "Epoch: 010/14999 | Loss: 0.0493 | Episodes: 137 | Win count: 1 | Win rate: 0.091 | time: 54.2 seconds\n",
      "Epoch: 011/14999 | Loss: 0.0634 | Episodes: 134 | Win count: 1 | Win rate: 0.083 | time: 59.2 seconds\n",
      "Epoch: 012/14999 | Loss: 0.0619 | Episodes: 137 | Win count: 1 | Win rate: 0.077 | time: 64.5 seconds\n",
      "Epoch: 013/14999 | Loss: 0.0727 | Episodes: 135 | Win count: 1 | Win rate: 0.071 | time: 69.6 seconds\n",
      "Epoch: 014/14999 | Loss: 0.0792 | Episodes: 134 | Win count: 1 | Win rate: 0.067 | time: 74.7 seconds\n",
      "Epoch: 015/14999 | Loss: 0.0817 | Episodes: 134 | Win count: 1 | Win rate: 0.062 | time: 79.8 seconds\n",
      "Epoch: 016/14999 | Loss: 0.1212 | Episodes: 149 | Win count: 1 | Win rate: 0.059 | time: 85.4 seconds\n",
      "Epoch: 017/14999 | Loss: 0.1296 | Episodes: 145 | Win count: 1 | Win rate: 0.056 | time: 90.9 seconds\n",
      "Epoch: 018/14999 | Loss: 0.1629 | Episodes: 158 | Win count: 1 | Win rate: 0.053 | time: 96.9 seconds\n",
      "Epoch: 019/14999 | Loss: 0.0015 | Episodes: 1 | Win count: 2 | Win rate: 0.100 | time: 96.9 seconds\n",
      "Epoch: 020/14999 | Loss: 0.1593 | Episodes: 73 | Win count: 3 | Win rate: 0.143 | time: 99.6 seconds\n",
      "Epoch: 021/14999 | Loss: 0.0083 | Episodes: 6 | Win count: 4 | Win rate: 0.182 | time: 99.9 seconds\n",
      "Epoch: 022/14999 | Loss: 0.0041 | Episodes: 3 | Win count: 5 | Win rate: 0.217 | time: 100.0 seconds\n",
      "Epoch: 023/14999 | Loss: 0.1665 | Episodes: 30 | Win count: 6 | Win rate: 0.250 | time: 101.2 seconds\n",
      "Epoch: 024/14999 | Loss: 0.0468 | Episodes: 11 | Win count: 7 | Win rate: 0.280 | time: 101.6 seconds\n",
      "Epoch: 025/14999 | Loss: 0.0225 | Episodes: 10 | Win count: 8 | Win rate: 0.308 | time: 101.9 seconds\n",
      "Epoch: 026/14999 | Loss: 0.5325 | Episodes: 134 | Win count: 9 | Win rate: 0.333 | time: 107.1 seconds\n",
      "Epoch: 027/14999 | Loss: 0.0017 | Episodes: 1 | Win count: 10 | Win rate: 0.357 | time: 107.1 seconds\n",
      "Epoch: 028/14999 | Loss: 0.1819 | Episodes: 43 | Win count: 11 | Win rate: 0.379 | time: 108.7 seconds\n",
      "Epoch: 029/14999 | Loss: 0.3665 | Episodes: 102 | Win count: 12 | Win rate: 0.400 | time: 112.6 seconds\n",
      "Epoch: 030/14999 | Loss: 0.4302 | Episodes: 148 | Win count: 13 | Win rate: 0.419 | time: 118.1 seconds\n",
      "Epoch: 031/14999 | Loss: 0.0980 | Episodes: 55 | Win count: 14 | Win rate: 0.438 | time: 120.2 seconds\n",
      "Epoch: 032/14999 | Loss: 0.0091 | Episodes: 8 | Win count: 15 | Win rate: 0.469 | time: 120.5 seconds\n",
      "Epoch: 033/14999 | Loss: 0.0013 | Episodes: 1 | Win count: 15 | Win rate: 0.469 | time: 120.6 seconds\n",
      "Epoch: 034/14999 | Loss: 0.0349 | Episodes: 23 | Win count: 16 | Win rate: 0.500 | time: 121.4 seconds\n",
      "Epoch: 035/14999 | Loss: 0.0343 | Episodes: 28 | Win count: 17 | Win rate: 0.531 | time: 122.5 seconds\n",
      "Epoch: 036/14999 | Loss: 0.0224 | Episodes: 20 | Win count: 18 | Win rate: 0.562 | time: 123.3 seconds\n",
      "Epoch: 037/14999 | Loss: 0.0546 | Episodes: 34 | Win count: 19 | Win rate: 0.594 | time: 124.6 seconds\n",
      "Epoch: 038/14999 | Loss: 0.0684 | Episodes: 50 | Win count: 20 | Win rate: 0.625 | time: 126.5 seconds\n",
      "Epoch: 039/14999 | Loss: 0.0013 | Episodes: 1 | Win count: 21 | Win rate: 0.656 | time: 126.5 seconds\n",
      "Epoch: 040/14999 | Loss: 0.0459 | Episodes: 32 | Win count: 22 | Win rate: 0.688 | time: 127.7 seconds\n",
      "Epoch: 041/14999 | Loss: 0.0374 | Episodes: 30 | Win count: 23 | Win rate: 0.719 | time: 128.8 seconds\n",
      "Epoch: 042/14999 | Loss: 0.0102 | Episodes: 7 | Win count: 24 | Win rate: 0.750 | time: 129.1 seconds\n",
      "Epoch: 043/14999 | Loss: 0.0375 | Episodes: 33 | Win count: 25 | Win rate: 0.781 | time: 130.3 seconds\n",
      "Epoch: 044/14999 | Loss: 0.0254 | Episodes: 23 | Win count: 26 | Win rate: 0.812 | time: 131.2 seconds\n",
      "Epoch: 045/14999 | Loss: 0.1540 | Episodes: 114 | Win count: 27 | Win rate: 0.844 | time: 135.5 seconds\n",
      "Epoch: 046/14999 | Loss: 0.0354 | Episodes: 32 | Win count: 28 | Win rate: 0.875 | time: 136.7 seconds\n",
      "Epoch: 047/14999 | Loss: 0.0096 | Episodes: 7 | Win count: 29 | Win rate: 0.906 | time: 136.9 seconds\n",
      "Epoch: 048/14999 | Loss: 0.0262 | Episodes: 23 | Win count: 30 | Win rate: 0.938 | time: 137.8 seconds\n",
      "Epoch: 049/14999 | Loss: 0.0172 | Episodes: 24 | Win count: 31 | Win rate: 0.969 | time: 138.7 seconds\n",
      "Epoch: 050/14999 | Loss: 0.0042 | Episodes: 7 | Win count: 32 | Win rate: 1.000 | time: 139.0 seconds\n",
      "Epoch: 051/14999 | Loss: 0.0251 | Episodes: 30 | Win count: 32 | Win rate: 1.000 | time: 140.2 seconds\n",
      "Epoch: 052/14999 | Loss: 0.0101 | Episodes: 14 | Win count: 32 | Win rate: 1.000 | time: 141.3 seconds\n",
      "Epoch: 053/14999 | Loss: 0.0145 | Episodes: 25 | Win count: 32 | Win rate: 1.000 | time: 142.8 seconds\n",
      "Epoch: 054/14999 | Loss: 0.0059 | Episodes: 11 | Win count: 32 | Win rate: 1.000 | time: 143.3 seconds\n",
      "Epoch: 055/14999 | Loss: 0.0042 | Episodes: 7 | Win count: 32 | Win rate: 1.000 | time: 143.6 seconds\n",
      "Epoch: 056/14999 | Loss: 0.0206 | Episodes: 33 | Win count: 32 | Win rate: 1.000 | time: 144.9 seconds\n",
      "Epoch: 057/14999 | Loss: 0.0177 | Episodes: 32 | Win count: 32 | Win rate: 1.000 | time: 146.2 seconds\n",
      "Epoch: 058/14999 | Loss: 0.0034 | Episodes: 9 | Win count: 32 | Win rate: 1.000 | time: 146.6 seconds\n",
      "Epoch: 059/14999 | Loss: 0.0021 | Episodes: 5 | Win count: 32 | Win rate: 1.000 | time: 146.9 seconds\n",
      "Epoch: 060/14999 | Loss: 0.0052 | Episodes: 11 | Win count: 32 | Win rate: 1.000 | time: 147.4 seconds\n",
      "Epoch: 061/14999 | Loss: 0.0063 | Episodes: 15 | Win count: 32 | Win rate: 1.000 | time: 148.0 seconds\n",
      "Epoch: 062/14999 | Loss: 0.0065 | Episodes: 17 | Win count: 32 | Win rate: 1.000 | time: 148.7 seconds\n",
      "Epoch: 063/14999 | Loss: 0.0076 | Episodes: 24 | Win count: 32 | Win rate: 1.000 | time: 149.7 seconds\n",
      "Epoch: 064/14999 | Loss: 0.0077 | Episodes: 28 | Win count: 32 | Win rate: 1.000 | time: 150.8 seconds\n",
      "Epoch: 065/14999 | Loss: 0.0063 | Episodes: 25 | Win count: 32 | Win rate: 1.000 | time: 151.8 seconds\n",
      "Epoch: 066/14999 | Loss: 0.0049 | Episodes: 22 | Win count: 32 | Win rate: 1.000 | time: 152.8 seconds\n",
      "Epoch: 067/14999 | Loss: 0.0041 | Episodes: 27 | Win count: 32 | Win rate: 1.000 | time: 154.0 seconds\n",
      "Epoch: 068/14999 | Loss: 0.0048 | Episodes: 26 | Win count: 32 | Win rate: 1.000 | time: 155.0 seconds\n",
      "Epoch: 069/14999 | Loss: 0.0044 | Episodes: 16 | Win count: 32 | Win rate: 1.000 | time: 155.7 seconds\n",
      "Epoch: 070/14999 | Loss: 0.0138 | Episodes: 59 | Win count: 32 | Win rate: 1.000 | time: 158.0 seconds\n",
      "Epoch: 071/14999 | Loss: 0.0142 | Episodes: 36 | Win count: 32 | Win rate: 1.000 | time: 159.9 seconds\n",
      "Epoch: 072/14999 | Loss: 0.0083 | Episodes: 27 | Win count: 32 | Win rate: 1.000 | time: 161.4 seconds\n",
      "Epoch: 073/14999 | Loss: 0.0099 | Episodes: 30 | Win count: 32 | Win rate: 1.000 | time: 163.1 seconds\n",
      "Epoch: 074/14999 | Loss: 0.0094 | Episodes: 24 | Win count: 32 | Win rate: 1.000 | time: 164.6 seconds\n",
      "Epoch: 075/14999 | Loss: 0.0060 | Episodes: 18 | Win count: 32 | Win rate: 1.000 | time: 165.8 seconds\n",
      "Epoch: 076/14999 | Loss: 0.0005 | Episodes: 2 | Win count: 32 | Win rate: 1.000 | time: 166.1 seconds\n",
      "Epoch: 077/14999 | Loss: 0.0093 | Episodes: 24 | Win count: 32 | Win rate: 1.000 | time: 167.1 seconds\n",
      "Epoch: 078/14999 | Loss: 0.0009 | Episodes: 3 | Win count: 32 | Win rate: 1.000 | time: 167.3 seconds\n",
      "Epoch: 079/14999 | Loss: 0.0053 | Episodes: 19 | Win count: 32 | Win rate: 1.000 | time: 168.6 seconds\n"
     ]
    },
    {
     "name": "stdout",
     "output_type": "stream",
     "text": [
      "Epoch: 080/14999 | Loss: 0.0094 | Episodes: 31 | Win count: 32 | Win rate: 1.000 | time: 169.8 seconds\n",
      "Epoch: 081/14999 | Loss: 0.0055 | Episodes: 14 | Win count: 32 | Win rate: 1.000 | time: 170.9 seconds\n",
      "Epoch: 082/14999 | Loss: 0.0039 | Episodes: 9 | Win count: 32 | Win rate: 1.000 | time: 171.4 seconds\n",
      "Epoch: 083/14999 | Loss: 0.0100 | Episodes: 19 | Win count: 32 | Win rate: 1.000 | time: 172.4 seconds\n",
      "Epoch: 084/14999 | Loss: 0.0081 | Episodes: 17 | Win count: 32 | Win rate: 1.000 | time: 173.4 seconds\n",
      "Epoch: 085/14999 | Loss: 0.0028 | Episodes: 5 | Win count: 32 | Win rate: 1.000 | time: 174.1 seconds\n",
      "Epoch: 086/14999 | Loss: 0.0130 | Episodes: 27 | Win count: 32 | Win rate: 1.000 | time: 175.7 seconds\n",
      "Epoch: 087/14999 | Loss: 0.0490 | Episodes: 82 | Win count: 32 | Win rate: 1.000 | time: 179.3 seconds\n",
      "Epoch: 088/14999 | Loss: 0.0083 | Episodes: 21 | Win count: 32 | Win rate: 1.000 | time: 180.4 seconds\n",
      "Epoch: 089/14999 | Loss: 0.0032 | Episodes: 7 | Win count: 32 | Win rate: 1.000 | time: 181.0 seconds\n",
      "Epoch: 090/14999 | Loss: 0.0059 | Episodes: 13 | Win count: 32 | Win rate: 1.000 | time: 181.6 seconds\n",
      "Epoch: 091/14999 | Loss: 0.0050 | Episodes: 9 | Win count: 32 | Win rate: 1.000 | time: 182.4 seconds\n",
      "Epoch: 092/14999 | Loss: 0.0080 | Episodes: 17 | Win count: 32 | Win rate: 1.000 | time: 183.2 seconds\n",
      "Epoch: 093/14999 | Loss: 0.0212 | Episodes: 39 | Win count: 32 | Win rate: 1.000 | time: 184.8 seconds\n",
      "Epoch: 094/14999 | Loss: 0.0308 | Episodes: 43 | Win count: 32 | Win rate: 1.000 | time: 186.6 seconds\n",
      "Epoch: 095/14999 | Loss: 0.0163 | Episodes: 27 | Win count: 32 | Win rate: 1.000 | time: 188.0 seconds\n",
      "Epoch: 096/14999 | Loss: 0.0152 | Episodes: 28 | Win count: 32 | Win rate: 1.000 | time: 189.3 seconds\n",
      "Epoch: 097/14999 | Loss: 0.0006 | Episodes: 1 | Win count: 32 | Win rate: 1.000 | time: 189.6 seconds\n",
      "Epoch: 098/14999 | Loss: 0.0187 | Episodes: 28 | Win count: 32 | Win rate: 1.000 | time: 190.9 seconds\n",
      "Epoch: 099/14999 | Loss: 0.0085 | Episodes: 17 | Win count: 32 | Win rate: 1.000 | time: 191.9 seconds\n",
      "Epoch: 100/14999 | Loss: 0.0133 | Episodes: 16 | Win count: 32 | Win rate: 1.000 | time: 192.8 seconds\n",
      "Epoch: 101/14999 | Loss: 0.0194 | Episodes: 29 | Win count: 32 | Win rate: 1.000 | time: 194.2 seconds\n",
      "Epoch: 102/14999 | Loss: 0.0137 | Episodes: 28 | Win count: 32 | Win rate: 1.000 | time: 195.5 seconds\n",
      "Epoch: 103/14999 | Loss: 0.0045 | Episodes: 6 | Win count: 32 | Win rate: 1.000 | time: 196.0 seconds\n",
      "Epoch: 104/14999 | Loss: 0.0010 | Episodes: 1 | Win count: 32 | Win rate: 1.000 | time: 196.3 seconds\n",
      "Epoch: 105/14999 | Loss: 0.0273 | Episodes: 45 | Win count: 32 | Win rate: 1.000 | time: 198.3 seconds\n",
      "Epoch: 106/14999 | Loss: 0.0182 | Episodes: 32 | Win count: 32 | Win rate: 1.000 | time: 199.9 seconds\n",
      "Epoch: 107/14999 | Loss: 0.0073 | Episodes: 12 | Win count: 32 | Win rate: 1.000 | time: 200.6 seconds\n",
      "Epoch: 108/14999 | Loss: 0.0055 | Episodes: 9 | Win count: 32 | Win rate: 1.000 | time: 201.3 seconds\n",
      "Epoch: 109/14999 | Loss: 0.0024 | Episodes: 6 | Win count: 32 | Win rate: 1.000 | time: 201.8 seconds\n",
      "Epoch: 110/14999 | Loss: 0.0153 | Episodes: 26 | Win count: 32 | Win rate: 1.000 | time: 202.9 seconds\n",
      "Epoch: 111/14999 | Loss: 0.0142 | Episodes: 25 | Win count: 32 | Win rate: 1.000 | time: 204.1 seconds\n",
      "Epoch: 112/14999 | Loss: 0.0038 | Episodes: 5 | Win count: 32 | Win rate: 1.000 | time: 204.4 seconds\n",
      "Epoch: 113/14999 | Loss: 0.0074 | Episodes: 18 | Win count: 32 | Win rate: 1.000 | time: 205.3 seconds\n",
      "Epoch: 114/14999 | Loss: 0.0008 | Episodes: 1 | Win count: 32 | Win rate: 1.000 | time: 205.5 seconds\n",
      "Epoch: 115/14999 | Loss: 0.0147 | Episodes: 27 | Win count: 32 | Win rate: 1.000 | time: 206.9 seconds\n",
      "Epoch: 116/14999 | Loss: 0.0158 | Episodes: 31 | Win count: 32 | Win rate: 1.000 | time: 208.6 seconds\n",
      "Epoch: 117/14999 | Loss: 0.0110 | Episodes: 23 | Win count: 32 | Win rate: 1.000 | time: 209.7 seconds\n",
      "Epoch: 118/14999 | Loss: 0.0114 | Episodes: 27 | Win count: 32 | Win rate: 1.000 | time: 210.9 seconds\n",
      "Epoch: 119/14999 | Loss: 0.0037 | Episodes: 8 | Win count: 32 | Win rate: 1.000 | time: 211.2 seconds\n",
      "Epoch: 120/14999 | Loss: 0.0027 | Episodes: 9 | Win count: 32 | Win rate: 1.000 | time: 211.9 seconds\n",
      "Epoch: 121/14999 | Loss: 0.0019 | Episodes: 8 | Win count: 32 | Win rate: 1.000 | time: 212.5 seconds\n",
      "Epoch: 122/14999 | Loss: 0.0075 | Episodes: 21 | Win count: 32 | Win rate: 1.000 | time: 213.6 seconds\n",
      "Epoch: 123/14999 | Loss: 0.0106 | Episodes: 34 | Win count: 32 | Win rate: 1.000 | time: 215.2 seconds\n",
      "Epoch: 124/14999 | Loss: 0.0028 | Episodes: 9 | Win count: 32 | Win rate: 1.000 | time: 215.7 seconds\n",
      "Epoch: 125/14999 | Loss: 0.0039 | Episodes: 11 | Win count: 32 | Win rate: 1.000 | time: 216.2 seconds\n",
      "Epoch: 126/14999 | Loss: 0.0100 | Episodes: 25 | Win count: 32 | Win rate: 1.000 | time: 217.2 seconds\n",
      "Epoch: 127/14999 | Loss: 0.0002 | Episodes: 1 | Win count: 32 | Win rate: 1.000 | time: 217.6 seconds\n",
      "Epoch: 128/14999 | Loss: 0.0149 | Episodes: 32 | Win count: 32 | Win rate: 1.000 | time: 219.1 seconds\n",
      "Epoch: 129/14999 | Loss: 0.0068 | Episodes: 21 | Win count: 32 | Win rate: 1.000 | time: 219.9 seconds\n",
      "Epoch: 130/14999 | Loss: 0.0155 | Episodes: 33 | Win count: 32 | Win rate: 1.000 | time: 221.5 seconds\n",
      "Epoch: 131/14999 | Loss: 0.0027 | Episodes: 7 | Win count: 32 | Win rate: 1.000 | time: 221.8 seconds\n",
      "Epoch: 132/14999 | Loss: 0.0249 | Episodes: 55 | Win count: 32 | Win rate: 1.000 | time: 224.4 seconds\n",
      "Epoch: 133/14999 | Loss: 0.0139 | Episodes: 25 | Win count: 32 | Win rate: 1.000 | time: 225.7 seconds\n",
      "Epoch: 134/14999 | Loss: 0.0059 | Episodes: 11 | Win count: 32 | Win rate: 1.000 | time: 226.5 seconds\n",
      "Epoch: 135/14999 | Loss: 0.0035 | Episodes: 5 | Win count: 32 | Win rate: 1.000 | time: 227.0 seconds\n",
      "Epoch: 136/14999 | Loss: 0.0082 | Episodes: 24 | Win count: 32 | Win rate: 1.000 | time: 228.0 seconds\n",
      "Epoch: 137/14999 | Loss: 0.0092 | Episodes: 18 | Win count: 32 | Win rate: 1.000 | time: 228.9 seconds\n",
      "Epoch: 138/14999 | Loss: 0.0076 | Episodes: 15 | Win count: 32 | Win rate: 1.000 | time: 229.9 seconds\n",
      "Epoch: 139/14999 | Loss: 0.0040 | Episodes: 9 | Win count: 32 | Win rate: 1.000 | time: 230.4 seconds\n",
      "Epoch: 140/14999 | Loss: 0.0089 | Episodes: 23 | Win count: 32 | Win rate: 1.000 | time: 231.5 seconds\n",
      "Epoch: 141/14999 | Loss: 0.0070 | Episodes: 22 | Win count: 32 | Win rate: 1.000 | time: 232.6 seconds\n",
      "Epoch: 142/14999 | Loss: 0.0090 | Episodes: 25 | Win count: 32 | Win rate: 1.000 | time: 233.9 seconds\n",
      "Epoch: 143/14999 | Loss: 0.0145 | Episodes: 32 | Win count: 32 | Win rate: 1.000 | time: 235.4 seconds\n",
      "Epoch: 144/14999 | Loss: 0.0109 | Episodes: 20 | Win count: 32 | Win rate: 1.000 | time: 236.5 seconds\n",
      "Epoch: 145/14999 | Loss: 0.0184 | Episodes: 29 | Win count: 32 | Win rate: 1.000 | time: 237.9 seconds\n",
      "Epoch: 146/14999 | Loss: 0.0160 | Episodes: 31 | Win count: 32 | Win rate: 1.000 | time: 239.3 seconds\n",
      "Epoch: 147/14999 | Loss: 0.0086 | Episodes: 17 | Win count: 32 | Win rate: 1.000 | time: 240.2 seconds\n",
      "Epoch: 148/14999 | Loss: 0.0086 | Episodes: 20 | Win count: 32 | Win rate: 1.000 | time: 241.3 seconds\n",
      "Epoch: 149/14999 | Loss: 0.0006 | Episodes: 3 | Win count: 32 | Win rate: 1.000 | time: 241.6 seconds\n",
      "Epoch: 150/14999 | Loss: 0.0002 | Episodes: 1 | Win count: 32 | Win rate: 1.000 | time: 241.9 seconds\n",
      "Epoch: 151/14999 | Loss: 0.0016 | Episodes: 5 | Win count: 32 | Win rate: 1.000 | time: 242.4 seconds\n",
      "Epoch: 152/14999 | Loss: 0.0009 | Episodes: 1 | Win count: 32 | Win rate: 1.000 | time: 242.7 seconds\n",
      "Epoch: 153/14999 | Loss: 0.0051 | Episodes: 8 | Win count: 32 | Win rate: 1.000 | time: 243.3 seconds\n",
      "Epoch: 154/14999 | Loss: 0.0068 | Episodes: 14 | Win count: 32 | Win rate: 1.000 | time: 244.2 seconds\n",
      "Epoch: 155/14999 | Loss: 0.0038 | Episodes: 7 | Win count: 32 | Win rate: 1.000 | time: 245.0 seconds\n",
      "Epoch: 156/14999 | Loss: 0.0055 | Episodes: 15 | Win count: 32 | Win rate: 1.000 | time: 245.7 seconds\n",
      "Epoch: 157/14999 | Loss: 0.0055 | Episodes: 9 | Win count: 32 | Win rate: 1.000 | time: 246.5 seconds\n",
      "Epoch: 158/14999 | Loss: 0.0028 | Episodes: 7 | Win count: 32 | Win rate: 1.000 | time: 247.0 seconds\n",
      "Epoch: 159/14999 | Loss: 0.0053 | Episodes: 15 | Win count: 32 | Win rate: 1.000 | time: 248.0 seconds\n"
     ]
    },
    {
     "name": "stdout",
     "output_type": "stream",
     "text": [
      "Epoch: 160/14999 | Loss: 0.0050 | Episodes: 10 | Win count: 32 | Win rate: 1.000 | time: 248.7 seconds\n",
      "Epoch: 161/14999 | Loss: 0.0105 | Episodes: 27 | Win count: 32 | Win rate: 1.000 | time: 250.2 seconds\n",
      "Epoch: 162/14999 | Loss: 0.0103 | Episodes: 27 | Win count: 32 | Win rate: 1.000 | time: 251.5 seconds\n",
      "Epoch: 163/14999 | Loss: 0.0084 | Episodes: 23 | Win count: 32 | Win rate: 1.000 | time: 252.7 seconds\n",
      "Epoch: 164/14999 | Loss: 0.0052 | Episodes: 16 | Win count: 32 | Win rate: 1.000 | time: 253.5 seconds\n",
      "Epoch: 165/14999 | Loss: 0.0069 | Episodes: 29 | Win count: 32 | Win rate: 1.000 | time: 254.7 seconds\n",
      "Epoch: 166/14999 | Loss: 0.0044 | Episodes: 18 | Win count: 32 | Win rate: 1.000 | time: 255.9 seconds\n",
      "Epoch: 167/14999 | Loss: 0.0014 | Episodes: 5 | Win count: 32 | Win rate: 1.000 | time: 256.6 seconds\n",
      "Epoch: 168/14999 | Loss: 0.0010 | Episodes: 3 | Win count: 32 | Win rate: 1.000 | time: 256.9 seconds\n",
      "Epoch: 169/14999 | Loss: 0.0121 | Episodes: 30 | Win count: 32 | Win rate: 1.000 | time: 258.5 seconds\n",
      "Epoch: 170/14999 | Loss: 0.0105 | Episodes: 32 | Win count: 32 | Win rate: 1.000 | time: 259.9 seconds\n",
      "Epoch: 171/14999 | Loss: 0.0083 | Episodes: 28 | Win count: 32 | Win rate: 1.000 | time: 261.1 seconds\n",
      "Epoch: 172/14999 | Loss: 0.0219 | Episodes: 42 | Win count: 32 | Win rate: 1.000 | time: 262.9 seconds\n",
      "Epoch: 173/14999 | Loss: 0.0031 | Episodes: 7 | Win count: 32 | Win rate: 1.000 | time: 263.6 seconds\n",
      "Epoch: 174/14999 | Loss: 0.0070 | Episodes: 15 | Win count: 32 | Win rate: 1.000 | time: 264.3 seconds\n",
      "Epoch: 175/14999 | Loss: 0.0086 | Episodes: 21 | Win count: 32 | Win rate: 1.000 | time: 265.3 seconds\n",
      "Epoch: 176/14999 | Loss: 0.0057 | Episodes: 21 | Win count: 32 | Win rate: 1.000 | time: 266.6 seconds\n",
      "Epoch: 177/14999 | Loss: 0.0093 | Episodes: 25 | Win count: 32 | Win rate: 1.000 | time: 267.7 seconds\n",
      "Epoch: 178/14999 | Loss: 0.0095 | Episodes: 29 | Win count: 32 | Win rate: 1.000 | time: 269.3 seconds\n",
      "Epoch: 179/14999 | Loss: 0.0087 | Episodes: 30 | Win count: 32 | Win rate: 1.000 | time: 271.0 seconds\n",
      "Epoch: 180/14999 | Loss: 0.0037 | Episodes: 11 | Win count: 32 | Win rate: 1.000 | time: 272.0 seconds\n",
      "Epoch: 181/14999 | Loss: 0.0076 | Episodes: 15 | Win count: 32 | Win rate: 1.000 | time: 272.9 seconds\n",
      "Epoch: 182/14999 | Loss: 0.0134 | Episodes: 37 | Win count: 32 | Win rate: 1.000 | time: 274.3 seconds\n",
      "Epoch: 183/14999 | Loss: 0.0081 | Episodes: 22 | Win count: 32 | Win rate: 1.000 | time: 275.7 seconds\n",
      "Epoch: 184/14999 | Loss: 0.0130 | Episodes: 31 | Win count: 32 | Win rate: 1.000 | time: 277.1 seconds\n",
      "Epoch: 185/14999 | Loss: 0.0026 | Episodes: 9 | Win count: 32 | Win rate: 1.000 | time: 277.7 seconds\n",
      "Epoch: 186/14999 | Loss: 0.0007 | Episodes: 4 | Win count: 32 | Win rate: 1.000 | time: 277.9 seconds\n",
      "Epoch: 187/14999 | Loss: 0.0081 | Episodes: 27 | Win count: 32 | Win rate: 1.000 | time: 279.3 seconds\n",
      "Epoch: 188/14999 | Loss: 0.0054 | Episodes: 15 | Win count: 32 | Win rate: 1.000 | time: 280.1 seconds\n",
      "Epoch: 189/14999 | Loss: 0.0049 | Episodes: 9 | Win count: 32 | Win rate: 1.000 | time: 280.7 seconds\n",
      "Epoch: 190/14999 | Loss: 0.0073 | Episodes: 22 | Win count: 32 | Win rate: 1.000 | time: 281.6 seconds\n",
      "Epoch: 191/14999 | Loss: 0.0042 | Episodes: 17 | Win count: 32 | Win rate: 1.000 | time: 282.5 seconds\n",
      "Epoch: 192/14999 | Loss: 0.0011 | Episodes: 3 | Win count: 32 | Win rate: 1.000 | time: 282.9 seconds\n",
      "Epoch: 193/14999 | Loss: 0.0052 | Episodes: 21 | Win count: 32 | Win rate: 1.000 | time: 284.0 seconds\n",
      "Epoch: 194/14999 | Loss: 0.0062 | Episodes: 31 | Win count: 32 | Win rate: 1.000 | time: 285.4 seconds\n",
      "Epoch: 195/14999 | Loss: 0.0051 | Episodes: 21 | Win count: 32 | Win rate: 1.000 | time: 286.5 seconds\n",
      "Epoch: 196/14999 | Loss: 0.0002 | Episodes: 1 | Win count: 32 | Win rate: 1.000 | time: 286.6 seconds\n",
      "Epoch: 197/14999 | Loss: 0.0001 | Episodes: 1 | Win count: 32 | Win rate: 1.000 | time: 286.9 seconds\n",
      "Epoch: 198/14999 | Loss: 0.0021 | Episodes: 9 | Win count: 32 | Win rate: 1.000 | time: 287.6 seconds\n",
      "Epoch: 199/14999 | Loss: 0.0032 | Episodes: 24 | Win count: 32 | Win rate: 1.000 | time: 288.7 seconds\n",
      "Epoch: 200/14999 | Loss: 0.0021 | Episodes: 14 | Win count: 32 | Win rate: 1.000 | time: 289.6 seconds\n",
      "Epoch: 201/14999 | Loss: 0.0012 | Episodes: 6 | Win count: 32 | Win rate: 1.000 | time: 290.1 seconds\n",
      "Epoch: 202/14999 | Loss: 0.0046 | Episodes: 28 | Win count: 32 | Win rate: 1.000 | time: 291.4 seconds\n",
      "Epoch: 203/14999 | Loss: 0.0052 | Episodes: 16 | Win count: 32 | Win rate: 1.000 | time: 292.3 seconds\n",
      "Epoch: 204/14999 | Loss: 0.0030 | Episodes: 21 | Win count: 32 | Win rate: 1.000 | time: 293.7 seconds\n",
      "Epoch: 205/14999 | Loss: 0.0078 | Episodes: 32 | Win count: 32 | Win rate: 1.000 | time: 295.5 seconds\n",
      "Epoch: 206/14999 | Loss: 0.0046 | Episodes: 17 | Win count: 32 | Win rate: 1.000 | time: 296.4 seconds\n",
      "Epoch: 207/14999 | Loss: 0.0015 | Episodes: 8 | Win count: 32 | Win rate: 1.000 | time: 297.0 seconds\n",
      "Epoch: 208/14999 | Loss: 0.0065 | Episodes: 27 | Win count: 32 | Win rate: 1.000 | time: 298.1 seconds\n",
      "Epoch: 209/14999 | Loss: 0.0016 | Episodes: 8 | Win count: 32 | Win rate: 1.000 | time: 298.8 seconds\n",
      "Epoch: 210/14999 | Loss: 0.0113 | Episodes: 37 | Win count: 32 | Win rate: 1.000 | time: 300.5 seconds\n",
      "Epoch: 211/14999 | Loss: 0.0113 | Episodes: 26 | Win count: 32 | Win rate: 1.000 | time: 301.5 seconds\n",
      "Epoch: 212/14999 | Loss: 0.0030 | Episodes: 7 | Win count: 32 | Win rate: 1.000 | time: 302.1 seconds\n",
      "Epoch: 213/14999 | Loss: 0.0043 | Episodes: 12 | Win count: 32 | Win rate: 1.000 | time: 302.7 seconds\n",
      "Epoch: 214/14999 | Loss: 0.0058 | Episodes: 18 | Win count: 32 | Win rate: 1.000 | time: 303.6 seconds\n",
      "Epoch: 215/14999 | Loss: 0.0096 | Episodes: 24 | Win count: 32 | Win rate: 1.000 | time: 304.8 seconds\n",
      "Epoch: 216/14999 | Loss: 0.0407 | Episodes: 71 | Win count: 32 | Win rate: 1.000 | time: 307.9 seconds\n",
      "Epoch: 217/14999 | Loss: 0.0018 | Episodes: 2 | Win count: 32 | Win rate: 1.000 | time: 308.3 seconds\n",
      "Epoch: 218/14999 | Loss: 0.0295 | Episodes: 32 | Win count: 32 | Win rate: 1.000 | time: 309.6 seconds\n",
      "Epoch: 219/14999 | Loss: 0.0195 | Episodes: 23 | Win count: 32 | Win rate: 1.000 | time: 310.8 seconds\n",
      "Epoch: 220/14999 | Loss: 0.0118 | Episodes: 24 | Win count: 32 | Win rate: 1.000 | time: 311.9 seconds\n",
      "Epoch: 221/14999 | Loss: 0.0060 | Episodes: 14 | Win count: 32 | Win rate: 1.000 | time: 312.5 seconds\n",
      "Epoch: 222/14999 | Loss: 0.0188 | Episodes: 35 | Win count: 32 | Win rate: 1.000 | time: 314.2 seconds\n",
      "Epoch: 223/14999 | Loss: 0.0032 | Episodes: 7 | Win count: 32 | Win rate: 1.000 | time: 314.9 seconds\n",
      "Epoch: 224/14999 | Loss: 0.0238 | Episodes: 37 | Win count: 32 | Win rate: 1.000 | time: 316.7 seconds\n",
      "Epoch: 225/14999 | Loss: 0.0145 | Episodes: 27 | Win count: 32 | Win rate: 1.000 | time: 318.1 seconds\n",
      "Epoch: 226/14999 | Loss: 0.0179 | Episodes: 31 | Win count: 32 | Win rate: 1.000 | time: 319.6 seconds\n",
      "Epoch: 227/14999 | Loss: 0.0122 | Episodes: 26 | Win count: 32 | Win rate: 1.000 | time: 321.0 seconds\n",
      "Epoch: 228/14999 | Loss: 0.0128 | Episodes: 27 | Win count: 32 | Win rate: 1.000 | time: 322.4 seconds\n",
      "Epoch: 229/14999 | Loss: 0.0081 | Episodes: 15 | Win count: 32 | Win rate: 1.000 | time: 323.1 seconds\n",
      "Epoch: 230/14999 | Loss: 0.0177 | Episodes: 32 | Win count: 32 | Win rate: 1.000 | time: 324.6 seconds\n",
      "Epoch: 231/14999 | Loss: 0.0044 | Episodes: 9 | Win count: 32 | Win rate: 1.000 | time: 325.1 seconds\n",
      "Epoch: 232/14999 | Loss: 0.0134 | Episodes: 31 | Win count: 32 | Win rate: 1.000 | time: 326.3 seconds\n",
      "Epoch: 233/14999 | Loss: 0.0044 | Episodes: 9 | Win count: 32 | Win rate: 1.000 | time: 327.0 seconds\n",
      "Epoch: 234/14999 | Loss: 0.0069 | Episodes: 14 | Win count: 32 | Win rate: 1.000 | time: 327.9 seconds\n",
      "Epoch: 235/14999 | Loss: 0.0104 | Episodes: 27 | Win count: 32 | Win rate: 1.000 | time: 329.0 seconds\n",
      "Epoch: 236/14999 | Loss: 0.0015 | Episodes: 4 | Win count: 32 | Win rate: 1.000 | time: 329.5 seconds\n",
      "Epoch: 237/14999 | Loss: 0.0030 | Episodes: 4 | Win count: 32 | Win rate: 1.000 | time: 330.0 seconds\n",
      "Epoch: 238/14999 | Loss: 0.0004 | Episodes: 1 | Win count: 32 | Win rate: 1.000 | time: 330.1 seconds\n",
      "Epoch: 239/14999 | Loss: 0.0091 | Episodes: 22 | Win count: 32 | Win rate: 1.000 | time: 331.2 seconds\n"
     ]
    },
    {
     "name": "stdout",
     "output_type": "stream",
     "text": [
      "Epoch: 240/14999 | Loss: 0.0026 | Episodes: 8 | Win count: 32 | Win rate: 1.000 | time: 331.9 seconds\n",
      "Epoch: 241/14999 | Loss: 0.0061 | Episodes: 21 | Win count: 32 | Win rate: 1.000 | time: 332.9 seconds\n",
      "Epoch: 242/14999 | Loss: 0.0066 | Episodes: 27 | Win count: 32 | Win rate: 1.000 | time: 334.0 seconds\n",
      "Epoch: 243/14999 | Loss: 0.0032 | Episodes: 11 | Win count: 32 | Win rate: 1.000 | time: 334.5 seconds\n",
      "Epoch: 244/14999 | Loss: 0.0050 | Episodes: 15 | Win count: 32 | Win rate: 1.000 | time: 335.4 seconds\n",
      "Epoch: 245/14999 | Loss: 0.0085 | Episodes: 28 | Win count: 32 | Win rate: 1.000 | time: 336.9 seconds\n",
      "Epoch: 246/14999 | Loss: 0.0021 | Episodes: 6 | Win count: 32 | Win rate: 1.000 | time: 337.5 seconds\n",
      "Epoch: 247/14999 | Loss: 0.0077 | Episodes: 29 | Win count: 32 | Win rate: 1.000 | time: 339.0 seconds\n",
      "Epoch: 248/14999 | Loss: 0.0072 | Episodes: 24 | Win count: 32 | Win rate: 1.000 | time: 340.1 seconds\n",
      "Epoch: 249/14999 | Loss: 0.0081 | Episodes: 24 | Win count: 32 | Win rate: 1.000 | time: 341.1 seconds\n",
      "Epoch: 250/14999 | Loss: 0.0011 | Episodes: 3 | Win count: 32 | Win rate: 1.000 | time: 341.6 seconds\n",
      "Epoch: 251/14999 | Loss: 0.0038 | Episodes: 15 | Win count: 32 | Win rate: 1.000 | time: 342.6 seconds\n",
      "Epoch: 252/14999 | Loss: 0.0065 | Episodes: 27 | Win count: 32 | Win rate: 1.000 | time: 343.9 seconds\n",
      "Epoch: 253/14999 | Loss: 0.0011 | Episodes: 3 | Win count: 32 | Win rate: 1.000 | time: 344.1 seconds\n",
      "Epoch: 254/14999 | Loss: 0.0041 | Episodes: 21 | Win count: 32 | Win rate: 1.000 | time: 345.3 seconds\n",
      "Epoch: 255/14999 | Loss: 0.0047 | Episodes: 25 | Win count: 32 | Win rate: 1.000 | time: 346.6 seconds\n",
      "Epoch: 256/14999 | Loss: 0.0138 | Episodes: 54 | Win count: 32 | Win rate: 1.000 | time: 349.1 seconds\n",
      "Epoch: 257/14999 | Loss: 0.0009 | Episodes: 3 | Win count: 32 | Win rate: 1.000 | time: 349.4 seconds\n",
      "Epoch: 258/14999 | Loss: 0.0071 | Episodes: 25 | Win count: 32 | Win rate: 1.000 | time: 350.6 seconds\n",
      "Epoch: 259/14999 | Loss: 0.0118 | Episodes: 44 | Win count: 32 | Win rate: 1.000 | time: 352.6 seconds\n",
      "Epoch: 260/14999 | Loss: 0.0053 | Episodes: 25 | Win count: 32 | Win rate: 1.000 | time: 353.8 seconds\n",
      "Epoch: 261/14999 | Loss: 0.0082 | Episodes: 32 | Win count: 32 | Win rate: 1.000 | time: 355.1 seconds\n",
      "Epoch: 262/14999 | Loss: 0.0027 | Episodes: 9 | Win count: 32 | Win rate: 1.000 | time: 355.7 seconds\n",
      "Epoch: 263/14999 | Loss: 0.0051 | Episodes: 27 | Win count: 32 | Win rate: 1.000 | time: 357.0 seconds\n",
      "Epoch: 264/14999 | Loss: 0.0054 | Episodes: 26 | Win count: 32 | Win rate: 1.000 | time: 358.2 seconds\n",
      "Epoch: 265/14999 | Loss: 0.0029 | Episodes: 15 | Win count: 32 | Win rate: 1.000 | time: 359.0 seconds\n",
      "Epoch: 266/14999 | Loss: 0.0050 | Episodes: 27 | Win count: 32 | Win rate: 1.000 | time: 360.3 seconds\n",
      "Epoch: 267/14999 | Loss: 0.0020 | Episodes: 11 | Win count: 32 | Win rate: 1.000 | time: 360.8 seconds\n",
      "Epoch: 268/14999 | Loss: 0.0041 | Episodes: 15 | Win count: 32 | Win rate: 1.000 | time: 361.4 seconds\n",
      "Epoch: 269/14999 | Loss: 0.0009 | Episodes: 4 | Win count: 32 | Win rate: 1.000 | time: 361.7 seconds\n",
      "Epoch: 270/14999 | Loss: 0.0013 | Episodes: 7 | Win count: 32 | Win rate: 1.000 | time: 362.2 seconds\n",
      "Epoch: 271/14999 | Loss: 0.0092 | Episodes: 34 | Win count: 32 | Win rate: 1.000 | time: 363.6 seconds\n",
      "Epoch: 272/14999 | Loss: 0.0054 | Episodes: 18 | Win count: 32 | Win rate: 1.000 | time: 364.3 seconds\n",
      "Epoch: 273/14999 | Loss: 0.0068 | Episodes: 16 | Win count: 32 | Win rate: 1.000 | time: 365.0 seconds\n",
      "Epoch: 274/14999 | Loss: 0.0032 | Episodes: 12 | Win count: 32 | Win rate: 1.000 | time: 365.7 seconds\n",
      "Epoch: 275/14999 | Loss: 0.0001 | Episodes: 1 | Win count: 32 | Win rate: 1.000 | time: 366.1 seconds\n",
      "Epoch: 276/14999 | Loss: 0.0071 | Episodes: 14 | Win count: 32 | Win rate: 1.000 | time: 366.9 seconds\n",
      "Epoch: 277/14999 | Loss: 0.0024 | Episodes: 10 | Win count: 32 | Win rate: 1.000 | time: 367.5 seconds\n",
      "Epoch: 278/14999 | Loss: 0.0023 | Episodes: 10 | Win count: 32 | Win rate: 1.000 | time: 368.2 seconds\n",
      "Epoch: 279/14999 | Loss: 0.0060 | Episodes: 20 | Win count: 32 | Win rate: 1.000 | time: 369.0 seconds\n",
      "Epoch: 280/14999 | Loss: 0.0161 | Episodes: 32 | Win count: 32 | Win rate: 1.000 | time: 370.6 seconds\n",
      "Epoch: 281/14999 | Loss: 0.0082 | Episodes: 24 | Win count: 32 | Win rate: 1.000 | time: 371.6 seconds\n",
      "Epoch: 282/14999 | Loss: 0.0027 | Episodes: 8 | Win count: 32 | Win rate: 1.000 | time: 372.2 seconds\n",
      "Epoch: 283/14999 | Loss: 0.0047 | Episodes: 19 | Win count: 32 | Win rate: 1.000 | time: 373.4 seconds\n",
      "Epoch: 284/14999 | Loss: 0.0018 | Episodes: 10 | Win count: 32 | Win rate: 1.000 | time: 373.9 seconds\n",
      "Epoch: 285/14999 | Loss: 0.0020 | Episodes: 9 | Win count: 32 | Win rate: 1.000 | time: 374.6 seconds\n",
      "Epoch: 286/14999 | Loss: 0.0004 | Episodes: 3 | Win count: 32 | Win rate: 1.000 | time: 375.2 seconds\n",
      "Epoch: 287/14999 | Loss: 0.0042 | Episodes: 19 | Win count: 32 | Win rate: 1.000 | time: 376.4 seconds\n",
      "Epoch: 288/14999 | Loss: 0.0127 | Episodes: 27 | Win count: 32 | Win rate: 1.000 | time: 377.5 seconds\n",
      "Epoch: 289/14999 | Loss: 0.0058 | Episodes: 9 | Win count: 32 | Win rate: 1.000 | time: 378.2 seconds\n",
      "Epoch: 290/14999 | Loss: 0.0241 | Episodes: 30 | Win count: 32 | Win rate: 1.000 | time: 379.8 seconds\n",
      "Reached 100% win rate at epoch: 290\n",
      "n_epoch: 290, max_mem: 512, data: 32, time: 380.3 seconds\n"
     ]
    },
    {
     "data": {
      "text/plain": [
       "380.333873"
      ]
     },
     "execution_count": 11,
     "metadata": {},
     "output_type": "execute_result"
    }
   ],
   "source": [
    "model = build_model(maze)\n",
    "qtrain(model, maze, epochs=1000, max_memory=8*maze.size, data_size=32)"
   ]
  },
  {
   "cell_type": "markdown",
   "metadata": {},
   "source": [
    "This cell will check to see if the model passes the completion check. Note: This could take several minutes."
   ]
  },
  {
   "cell_type": "code",
   "execution_count": 13,
   "metadata": {},
   "outputs": [
    {
     "data": {
      "text/plain": [
       "<matplotlib.image.AxesImage at 0x2415ff7ea48>"
      ]
     },
     "execution_count": 13,
     "metadata": {},
     "output_type": "execute_result"
    },
    {
     "data": {
      "image/png": "[encoded data removed]",
      "text/plain": [
       "<Figure size 432x288 with 1 Axes>"
      ]
     },
     "metadata": {
      "needs_background": "light"
     },
     "output_type": "display_data"
    }
   ],
   "source": [
    "completion_check(model, qmaze)\n",
    "show(qmaze)"
   ]
  },
  {
   "cell_type": "markdown",
   "metadata": {},
   "source": [
    "This cell will test your model for one game. It will start the pirate at the top-left corner and run play_game. The agent should find a path from the starting position to the target (treasure). The treasure is located in the bottom-right corner."
   ]
  },
  {
   "cell_type": "code",
   "execution_count": 14,
   "metadata": {},
   "outputs": [
    {
     "data": {
      "text/plain": [
       "<matplotlib.image.AxesImage at 0x2416027b808>"
      ]
     },
     "execution_count": 14,
     "metadata": {},
     "output_type": "execute_result"
    },
    {
     "data": {
      "image/png": "[encoded data removed]",
      "text/plain": [
       "<Figure size 432x288 with 1 Axes>"
      ]
     },
     "metadata": {
      "needs_background": "light"
     },
     "output_type": "display_data"
    }
   ],
   "source": [
    "pirate_start = (0, 0)\n",
    "play_game(model, qmaze, pirate_start)\n",
    "show(qmaze)"
   ]
  },
  {
   "cell_type": "markdown",
   "metadata": {},
   "source": [
    "## Save and Submit Your Work\n",
    "After you have finished creating the code for your notebook, save your work. Make sure that your notebook contains your name in the filename (e.g. Doe_Jane_ProjectTwo.ipynb). This will help your instructor access and grade your work easily. Download a copy of your IPYNB file and submit it to Brightspace. Refer to the Jupyter Notebook in Apporto Tutorial if you need help with these tasks."
   ]
  }
 ],
 "metadata": {
  "kernelspec": {
   "display_name": "Python 3",
   "language": "python",
   "name": "python3"
  },
  "language_info": {
   "codemirror_mode": {
    "name": "ipython",
    "version": 3
   },
   "file_extension": ".py",
   "mimetype": "text/x-python",
   "name": "python",
   "nbconvert_exporter": "python",
   "pygments_lexer": "ipython3",
   "version": "3.7.4"
  }
 },
 "nbformat": 4,
 "nbformat_minor": 2
}
